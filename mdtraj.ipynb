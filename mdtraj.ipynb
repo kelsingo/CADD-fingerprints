{
 "cells": [
  {
   "cell_type": "code",
   "execution_count": 2,
   "id": "03470edb-5884-449c-9812-d19af0518919",
   "metadata": {},
   "outputs": [
    {
     "name": "stdout",
     "output_type": "stream",
     "text": [
      "<mdtraj.Trajectory with 1 frames, 4700 atoms, 708 residues, and unitcells>\n"
     ]
    }
   ],
   "source": [
    "import mdtraj as md\n",
    "\n",
    "t = md.load_pdb('2pgh.pdb')\n",
    "print(t)"
   ]
  },
  {
   "cell_type": "code",
   "execution_count": 4,
   "id": "15f487eb-9708-4f1c-94b1-0b9824f03bea",
   "metadata": {},
   "outputs": [],
   "source": [
    "t.save_xyz('2pgh.xyz')"
   ]
  },
  {
   "cell_type": "code",
   "execution_count": 6,
   "id": "aa46eefc-3606-4251-a4b3-bcb4afe23548",
   "metadata": {},
   "outputs": [],
   "source": [
    "t.save('2pgh.h5')"
   ]
  }
 ],
 "metadata": {
  "kernelspec": {
   "display_name": "Python 3 (ipykernel)",
   "language": "python",
   "name": "python3"
  },
  "language_info": {
   "codemirror_mode": {
    "name": "ipython",
    "version": 3
   },
   "file_extension": ".py",
   "mimetype": "text/x-python",
   "name": "python",
   "nbconvert_exporter": "python",
   "pygments_lexer": "ipython3",
   "version": "3.12.2"
  }
 },
 "nbformat": 4,
 "nbformat_minor": 5
}
