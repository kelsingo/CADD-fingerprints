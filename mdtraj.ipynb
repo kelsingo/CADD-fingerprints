{
 "cells": [
  {
   "cell_type": "code",
   "execution_count": 79,
   "id": "8f0a14bb-e0cf-451c-91f8-2ead69d05019",
   "metadata": {},
   "outputs": [
    {
     "name": "stdout",
     "output_type": "stream",
     "text": [
      "Requirement already satisfied: mdtraj in /opt/anaconda3/lib/python3.12/site-packages (1.10.0)\n",
      "Requirement already satisfied: numpy<2.0.0a0,>=1.23 in /opt/anaconda3/lib/python3.12/site-packages (from mdtraj) (1.26.4)\n",
      "Requirement already satisfied: scipy in /opt/anaconda3/lib/python3.12/site-packages (from mdtraj) (1.13.1)\n",
      "Requirement already satisfied: astunparse in /opt/anaconda3/lib/python3.12/site-packages (from mdtraj) (1.6.3)\n",
      "Requirement already satisfied: pyparsing in /opt/anaconda3/lib/python3.12/site-packages (from mdtraj) (3.0.9)\n",
      "Requirement already satisfied: packaging in /opt/anaconda3/lib/python3.12/site-packages (from mdtraj) (23.2)\n",
      "Requirement already satisfied: wheel<1.0,>=0.23.0 in /opt/anaconda3/lib/python3.12/site-packages (from astunparse->mdtraj) (0.43.0)\n",
      "Requirement already satisfied: six<2.0,>=1.6.1 in /opt/anaconda3/lib/python3.12/site-packages (from astunparse->mdtraj) (1.16.0)\n",
      "Note: you may need to restart the kernel to use updated packages.\n"
     ]
    }
   ],
   "source": [
    "pip install --upgrade mdtraj"
   ]
  },
  {
   "cell_type": "code",
   "execution_count": 6,
   "id": "03470edb-5884-449c-9812-d19af0518919",
   "metadata": {},
   "outputs": [
    {
     "name": "stdout",
     "output_type": "stream",
     "text": [
      "<mdtraj.Trajectory with 1 frames, 4700 atoms, 708 residues, and unitcells>\n"
     ]
    }
   ],
   "source": [
    "import mdtraj as md\n",
    "\n",
    "t = md.load_pdb('2pgh.pdb')\n",
    "print(t)"
   ]
  },
  {
   "cell_type": "code",
   "execution_count": 10,
   "id": "15f487eb-9708-4f1c-94b1-0b9824f03bea",
   "metadata": {},
   "outputs": [],
   "source": [
    "t.save_xyz('2pgh.xyz')"
   ]
  },
  {
   "cell_type": "code",
   "execution_count": 12,
   "id": "aa46eefc-3606-4251-a4b3-bcb4afe23548",
   "metadata": {},
   "outputs": [
    {
     "ename": "OSError",
     "evalue": "Sorry, no saver for filename=2pgh.cif (extension=.cif) was found. I can only save files with extensions in dict_keys(['.xtc', '.trr', '.pdb', '.pdb.gz', '.dcd', '.h5', '.nc', '.netcdf', '.ncrst', '.crd', '.mdcrd', '.ncdf', '.lh5', '.lammpstrj', '.xyz', '.xyz.gz', '.gro', '.rst7', '.dtr', '.gsd'])",
     "output_type": "error",
     "traceback": [
      "\u001b[0;31m---------------------------------------------------------------------------\u001b[0m",
      "\u001b[0;31mKeyError\u001b[0m                                  Traceback (most recent call last)",
      "File \u001b[0;32m/opt/anaconda3/lib/python3.12/site-packages/mdtraj/core/trajectory.py:1466\u001b[0m, in \u001b[0;36mTrajectory.save\u001b[0;34m(self, filename, **kwargs)\u001b[0m\n\u001b[1;32m   1465\u001b[0m \u001b[38;5;28;01mtry\u001b[39;00m:\n\u001b[0;32m-> 1466\u001b[0m     saver \u001b[38;5;241m=\u001b[39m savers[extension]\n\u001b[1;32m   1467\u001b[0m \u001b[38;5;28;01mexcept\u001b[39;00m \u001b[38;5;167;01mKeyError\u001b[39;00m:\n",
      "\u001b[0;31mKeyError\u001b[0m: '.cif'",
      "\nDuring handling of the above exception, another exception occurred:\n",
      "\u001b[0;31mOSError\u001b[0m                                   Traceback (most recent call last)",
      "Cell \u001b[0;32mIn[12], line 1\u001b[0m\n\u001b[0;32m----> 1\u001b[0m t\u001b[38;5;241m.\u001b[39msave(\u001b[38;5;124m'\u001b[39m\u001b[38;5;124m2pgh.cif\u001b[39m\u001b[38;5;124m'\u001b[39m)\n",
      "File \u001b[0;32m/opt/anaconda3/lib/python3.12/site-packages/mdtraj/core/trajectory.py:1468\u001b[0m, in \u001b[0;36mTrajectory.save\u001b[0;34m(self, filename, **kwargs)\u001b[0m\n\u001b[1;32m   1466\u001b[0m     saver \u001b[38;5;241m=\u001b[39m savers[extension]\n\u001b[1;32m   1467\u001b[0m \u001b[38;5;28;01mexcept\u001b[39;00m \u001b[38;5;167;01mKeyError\u001b[39;00m:\n\u001b[0;32m-> 1468\u001b[0m     \u001b[38;5;28;01mraise\u001b[39;00m \u001b[38;5;167;01mOSError\u001b[39;00m(\n\u001b[1;32m   1469\u001b[0m         \u001b[38;5;124mf\u001b[39m\u001b[38;5;124m\"\u001b[39m\u001b[38;5;124mSorry, no saver for filename=\u001b[39m\u001b[38;5;132;01m{\u001b[39;00mfilename\u001b[38;5;132;01m}\u001b[39;00m\u001b[38;5;124m (extension=\u001b[39m\u001b[38;5;132;01m{\u001b[39;00mextension\u001b[38;5;132;01m}\u001b[39;00m\u001b[38;5;124m) \u001b[39m\u001b[38;5;124m\"\u001b[39m\n\u001b[1;32m   1470\u001b[0m         \u001b[38;5;124m\"\u001b[39m\u001b[38;5;124mwas found. I can only save files \u001b[39m\u001b[38;5;124m\"\u001b[39m\n\u001b[1;32m   1471\u001b[0m         \u001b[38;5;124mf\u001b[39m\u001b[38;5;124m\"\u001b[39m\u001b[38;5;124mwith extensions in \u001b[39m\u001b[38;5;132;01m{\u001b[39;00msavers\u001b[38;5;241m.\u001b[39mkeys()\u001b[38;5;132;01m}\u001b[39;00m\u001b[38;5;124m\"\u001b[39m,\n\u001b[1;32m   1472\u001b[0m     )\n\u001b[1;32m   1474\u001b[0m \u001b[38;5;66;03m# run the saver, and return whatever output it gives\u001b[39;00m\n\u001b[1;32m   1475\u001b[0m \u001b[38;5;28;01mreturn\u001b[39;00m saver(filename, \u001b[38;5;241m*\u001b[39m\u001b[38;5;241m*\u001b[39mkwargs)\n",
      "\u001b[0;31mOSError\u001b[0m: Sorry, no saver for filename=2pgh.cif (extension=.cif) was found. I can only save files with extensions in dict_keys(['.xtc', '.trr', '.pdb', '.pdb.gz', '.dcd', '.h5', '.nc', '.netcdf', '.ncrst', '.crd', '.mdcrd', '.ncdf', '.lh5', '.lammpstrj', '.xyz', '.xyz.gz', '.gro', '.rst7', '.dtr', '.gsd'])"
     ]
    }
   ],
   "source": [
    "t.save('2pgh.cif')"
   ]
  },
  {
   "cell_type": "code",
   "execution_count": null,
   "id": "f5ecaf57-1a99-40e0-b217-f9d6341fafc1",
   "metadata": {},
   "outputs": [],
   "source": []
  }
 ],
 "metadata": {
  "kernelspec": {
   "display_name": "Python 3 (ipykernel)",
   "language": "python",
   "name": "python3"
  },
  "language_info": {
   "codemirror_mode": {
    "name": "ipython",
    "version": 3
   },
   "file_extension": ".py",
   "mimetype": "text/x-python",
   "name": "python",
   "nbconvert_exporter": "python",
   "pygments_lexer": "ipython3",
   "version": "3.12.2"
  }
 },
 "nbformat": 4,
 "nbformat_minor": 5
}
