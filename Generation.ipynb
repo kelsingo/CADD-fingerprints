{
  "cells": [
    {
      "cell_type": "markdown",
      "metadata": {
        "id": "view-in-github",
        "colab_type": "text"
      },
      "source": [
        "<a href=\"https://colab.research.google.com/github/kelsingo/CADD-fingerprints/blob/main/Generation.ipynb\" target=\"_parent\"><img src=\"https://colab.research.google.com/assets/colab-badge.svg\" alt=\"Open In Colab\"/></a>"
      ]
    },
    {
      "cell_type": "markdown",
      "source": [
        "# RDKit Fingerprints"
      ],
      "metadata": {
        "id": "HsZ_3h1566F3"
      }
    },
    {
      "cell_type": "code",
      "execution_count": null,
      "metadata": {
        "colab": {
          "base_uri": "https://localhost:8080/"
        },
        "id": "AHYvva3lmRcs",
        "outputId": "5276d6be-7daa-405a-e46e-06dc9325525b"
      },
      "outputs": [
        {
          "output_type": "stream",
          "name": "stdout",
          "text": [
            "⏬ Downloading https://github.com/conda-forge/miniforge/releases/download/23.11.0-0/Mambaforge-23.11.0-0-Linux-x86_64.sh...\n",
            "📦 Installing...\n",
            "📌 Adjusting configuration...\n",
            "🩹 Patching environment...\n",
            "⏲ Done in 0:00:12\n",
            "🔁 Restarting kernel...\n"
          ]
        }
      ],
      "source": [
        "!pip install -q condacolab\n",
        "import condacolab\n",
        "condacolab.install()"
      ]
    },
    {
      "cell_type": "code",
      "execution_count": null,
      "metadata": {
        "colab": {
          "base_uri": "https://localhost:8080/"
        },
        "id": "dt0rOaHcmaO1",
        "outputId": "c2939c4a-4628-4ac2-9685-928968dafd31"
      },
      "outputs": [
        {
          "output_type": "stream",
          "name": "stdout",
          "text": [
            "\n",
            "Looking for: ['rdkit']\n",
            "\n",
            "\u001b[?25l\u001b[2K\u001b[0G[+] 0.0s\n",
            "\u001b[2K\u001b[1A\u001b[2K\u001b[0G[+] 0.1s\n",
            "conda-forge/linux-64  ⣾  \n",
            "conda-forge/noarch    ⣾  \u001b[2K\u001b[1A\u001b[2K\u001b[1A\u001b[2K\u001b[0G[+] 0.2s\n",
            "conda-forge/linux-64   2%\n",
            "conda-forge/noarch     8%\u001b[2K\u001b[1A\u001b[2K\u001b[1A\u001b[2K\u001b[0G[+] 0.3s\n",
            "conda-forge/linux-64   4%\n",
            "conda-forge/noarch    29%\u001b[2K\u001b[1A\u001b[2K\u001b[1A\u001b[2K\u001b[0G[+] 0.4s\n",
            "conda-forge/linux-64   8%\n",
            "conda-forge/noarch    50%\u001b[2K\u001b[1A\u001b[2K\u001b[1A\u001b[2K\u001b[0G[+] 0.5s\n",
            "conda-forge/linux-64  14%\n",
            "conda-forge/noarch    71%\u001b[2K\u001b[1A\u001b[2K\u001b[1A\u001b[2K\u001b[0G[+] 0.6s\n",
            "conda-forge/linux-64  19%\n",
            "conda-forge/noarch    71%\u001b[2K\u001b[1A\u001b[2K\u001b[1A\u001b[2K\u001b[0G[+] 0.7s\n",
            "conda-forge/linux-64  23%\n",
            "conda-forge/noarch    81%\u001b[2K\u001b[1A\u001b[2K\u001b[1A\u001b[2K\u001b[0G[+] 0.8s\n",
            "conda-forge/linux-64  28%\n",
            "conda-forge/noarch    92%\u001b[2K\u001b[1A\u001b[2K\u001b[1A\u001b[2K\u001b[0Gconda-forge/noarch                                \n",
            "[+] 0.9s\n",
            "conda-forge/linux-64  32%\u001b[2K\u001b[1A\u001b[2K\u001b[0G[+] 1.0s\n",
            "conda-forge/linux-64  37%\u001b[2K\u001b[1A\u001b[2K\u001b[0G[+] 1.1s\n",
            "conda-forge/linux-64  50%\u001b[2K\u001b[1A\u001b[2K\u001b[0G[+] 1.2s\n",
            "conda-forge/linux-64  55%\u001b[2K\u001b[1A\u001b[2K\u001b[0G[+] 1.3s\n",
            "conda-forge/linux-64  64%\u001b[2K\u001b[1A\u001b[2K\u001b[0G[+] 1.4s\n",
            "conda-forge/linux-64  68%\u001b[2K\u001b[1A\u001b[2K\u001b[0G[+] 1.5s\n",
            "conda-forge/linux-64  77%\u001b[2K\u001b[1A\u001b[2K\u001b[0G[+] 1.6s\n",
            "conda-forge/linux-64  81%\u001b[2K\u001b[1A\u001b[2K\u001b[0G[+] 1.7s\n",
            "conda-forge/linux-64  90%\u001b[2K\u001b[1A\u001b[2K\u001b[0G[+] 1.8s\n",
            "conda-forge/linux-64  95%\u001b[2K\u001b[1A\u001b[2K\u001b[0G[+] 1.9s\n",
            "conda-forge/linux-64  99%\u001b[2K\u001b[1A\u001b[2K\u001b[0Gconda-forge/linux-64                              \n",
            "\u001b[?25h\n",
            "Pinned packages:\n",
            "  - python 3.10.*\n",
            "  - python 3.10.*\n",
            "  - python_abi 3.10.* *cp310*\n",
            "  - cuda-version 12.*\n",
            "\n",
            "\n",
            "Transaction\n",
            "\n",
            "  Prefix: /usr/local\n",
            "\n",
            "  Updating specs:\n",
            "\n",
            "   - rdkit\n",
            "   - ca-certificates\n",
            "   - certifi\n",
            "   - openssl\n",
            "\n",
            "\n",
            "  Package                         Version  Build                Channel           Size\n",
            "────────────────────────────────────────────────────────────────────────────────────────\n",
            "  Install:\n",
            "────────────────────────────────────────────────────────────────────────────────────────\n",
            "\n",
            "  \u001b[32m+ zlib                     \u001b[0m      1.2.13  hd590300_5           conda-forge       93kB\n",
            "  \u001b[32m+ xorg-libice              \u001b[0m       1.1.1  hd590300_0           conda-forge       58kB\n",
            "  \u001b[32m+ xorg-xextproto           \u001b[0m       7.3.0  h0b41bf4_1003        conda-forge       30kB\n",
            "  \u001b[32m+ libpng                   \u001b[0m      1.6.43  h2797004_0           conda-forge      288kB\n",
            "  \u001b[32m+ libboost                 \u001b[0m      1.84.0  h8013b2b_2           conda-forge        3MB\n",
            "  \u001b[32m+ libjpeg-turbo            \u001b[0m       3.0.0  hd590300_1           conda-forge      619kB\n",
            "  \u001b[32m+ lerc                     \u001b[0m       4.0.0  h27087fc_0           conda-forge      282kB\n",
            "  \u001b[32m+ libdeflate               \u001b[0m        1.20  hd590300_0           conda-forge       72kB\n",
            "  \u001b[32m+ libwebp-base             \u001b[0m       1.4.0  hd590300_0           conda-forge      439kB\n",
            "  \u001b[32m+ kiwisolver               \u001b[0m       1.4.5  py310hd41b1e2_1      conda-forge       73kB\n",
            "  \u001b[32m+ qhull                    \u001b[0m      2020.2  h434a139_5           conda-forge      553kB\n",
            "  \u001b[32m+ xorg-libxau              \u001b[0m      1.0.11  hd590300_0           conda-forge       14kB\n",
            "  \u001b[32m+ libbrotlicommon          \u001b[0m       1.1.0  hd590300_1           conda-forge       69kB\n",
            "  \u001b[32m+ unicodedata2             \u001b[0m      15.1.0  py310h2372a71_0      conda-forge      374kB\n",
            "  \u001b[32m+ libexpat                 \u001b[0m       2.6.2  h59595ed_0           conda-forge       74kB\n",
            "  \u001b[32m+ pcre2                    \u001b[0m       10.43  hcad00b1_0           conda-forge      951kB\n",
            "  \u001b[32m+ pixman                   \u001b[0m      0.43.2  h59595ed_0           conda-forge      387kB\n",
            "  \u001b[32m+ greenlet                 \u001b[0m       3.0.3  py310hc6cd4ac_0      conda-forge      211kB\n",
            "  \u001b[32m+ chardet                  \u001b[0m       5.2.0  py310hff52083_1      conda-forge      247kB\n",
            "  \u001b[32m+ libgfortran5             \u001b[0m      13.2.0  h3d2ce59_13          conda-forge        1MB\n",
            "  \u001b[32m+ xorg-renderproto         \u001b[0m      0.11.1  h7f98852_1002        conda-forge       10kB\n",
            "  \u001b[32m+ xorg-kbproto             \u001b[0m       1.0.7  h7f98852_1002        conda-forge       27kB\n",
            "  \u001b[32m+ xorg-xproto              \u001b[0m      7.0.31  h7f98852_1007        conda-forge       75kB\n",
            "  \u001b[32m+ pthread-stubs            \u001b[0m         0.4  h36c2ea0_1001        conda-forge        6kB\n",
            "  \u001b[32m+ xorg-libxdmcp            \u001b[0m       1.1.3  h7f98852_0           conda-forge       19kB\n",
            "  \u001b[32m+ xorg-libsm               \u001b[0m       1.2.4  h7391055_0           conda-forge       27kB\n",
            "  \u001b[32m+ freetype                 \u001b[0m      2.12.1  h267a509_2           conda-forge      635kB\n",
            "  \u001b[32m+ libtiff                  \u001b[0m       4.6.0  h1dd3fc0_3           conda-forge      283kB\n",
            "  \u001b[32m+ libbrotlienc             \u001b[0m       1.1.0  hd590300_1           conda-forge      283kB\n",
            "  \u001b[32m+ libbrotlidec             \u001b[0m       1.1.0  hd590300_1           conda-forge       33kB\n",
            "  \u001b[32m+ expat                    \u001b[0m       2.6.2  h59595ed_0           conda-forge      138kB\n",
            "  \u001b[32m+ libglib                  \u001b[0m      2.80.2  hf974151_0           conda-forge        4MB\n",
            "  \u001b[32m+ libgfortran-ng           \u001b[0m      13.2.0  h69a702a_13          conda-forge       48kB\n",
            "  \u001b[32m+ libxcb                   \u001b[0m        1.15  h0b41bf4_0           conda-forge      384kB\n",
            "  \u001b[32m+ libpq                    \u001b[0m        16.3  ha72fbe1_0           conda-forge        3MB\n",
            "  \u001b[32m+ openjpeg                 \u001b[0m       2.5.2  h488ebb8_0           conda-forge      342kB\n",
            "  \u001b[32m+ lcms2                    \u001b[0m        2.16  hb7c19ff_0           conda-forge      245kB\n",
            "  \u001b[32m+ brotli-bin               \u001b[0m       1.1.0  hd590300_1           conda-forge       19kB\n",
            "  \u001b[32m+ fontconfig               \u001b[0m      2.14.2  h14ed4e7_0           conda-forge      272kB\n",
            "  \u001b[32m+ libopenblas              \u001b[0m      0.3.27  pthreads_hac2b453_1  conda-forge        6MB\n",
            "  \u001b[32m+ xorg-libx11              \u001b[0m       1.8.9  h8ee46fc_0           conda-forge      828kB\n",
            "  \u001b[32m+ pillow                   \u001b[0m      10.3.0  py310hf73ecf8_0      conda-forge       42MB\n",
            "  \u001b[32m+ brotli                   \u001b[0m       1.1.0  hd590300_1           conda-forge       19kB\n",
            "  \u001b[32m+ libblas                  \u001b[0m       3.9.0  23_linux64_openblas  conda-forge       15kB\n",
            "  \u001b[32m+ xorg-libxext             \u001b[0m       1.3.4  h0b41bf4_2           conda-forge       50kB\n",
            "  \u001b[32m+ xorg-libxrender          \u001b[0m      0.9.11  hd590300_0           conda-forge       38kB\n",
            "  \u001b[32m+ libcblas                 \u001b[0m       3.9.0  23_linux64_openblas  conda-forge       15kB\n",
            "  \u001b[32m+ liblapack                \u001b[0m       3.9.0  23_linux64_openblas  conda-forge       15kB\n",
            "  \u001b[32m+ numpy                    \u001b[0m       2.0.1  py310hf9f9071_0      conda-forge        8MB\n",
            "  \u001b[32m+ contourpy                \u001b[0m       1.2.1  py310hd41b1e2_0      conda-forge      242kB\n",
            "  \u001b[32m+ libboost-python          \u001b[0m      1.84.0  py310ha7c98ff_4      conda-forge      121kB\n",
            "  \u001b[32m+ font-ttf-dejavu-sans-mono\u001b[0m        2.37  hab24e00_0           conda-forge      397kB\n",
            "  \u001b[32m+ font-ttf-inconsolata     \u001b[0m       3.000  h77eed37_0           conda-forge       97kB\n",
            "  \u001b[32m+ font-ttf-source-code-pro \u001b[0m       2.038  h77eed37_0           conda-forge      701kB\n",
            "  \u001b[32m+ font-ttf-ubuntu          \u001b[0m        0.83  h77eed37_2           conda-forge        2MB\n",
            "  \u001b[32m+ python-tzdata            \u001b[0m      2024.1  pyhd8ed1ab_0         conda-forge      144kB\n",
            "  \u001b[32m+ pytz                     \u001b[0m      2024.1  pyhd8ed1ab_0         conda-forge      189kB\n",
            "  \u001b[32m+ cycler                   \u001b[0m      0.12.1  pyhd8ed1ab_0         conda-forge       13kB\n",
            "  \u001b[32m+ pyparsing                \u001b[0m       3.1.2  pyhd8ed1ab_0         conda-forge       89kB\n",
            "  \u001b[32m+ munkres                  \u001b[0m       1.1.4  pyh9f0ad1d_0         conda-forge       12kB\n",
            "  \u001b[32m+ six                      \u001b[0m      1.16.0  pyh6c4a22f_0         conda-forge       14kB\n",
            "  \u001b[32m+ typing_extensions        \u001b[0m      4.12.2  pyha770c72_0         conda-forge       40kB\n",
            "  \u001b[32m+ freetype-py              \u001b[0m       2.3.0  pyhd8ed1ab_0         conda-forge       59kB\n",
            "  \u001b[32m+ fonts-conda-forge        \u001b[0m           1  0                    conda-forge        4kB\n",
            "  \u001b[32m+ python-dateutil          \u001b[0m       2.9.0  pyhd8ed1ab_0         conda-forge      223kB\n",
            "  \u001b[32m+ typing-extensions        \u001b[0m      4.12.2  hd8ed1ab_0           conda-forge       10kB\n",
            "  \u001b[32m+ fonts-conda-ecosystem    \u001b[0m           1  0                    conda-forge        4kB\n",
            "  \u001b[32m+ fonttools                \u001b[0m      4.53.1  py310h5b4e0ec_0      conda-forge        2MB\n",
            "  \u001b[32m+ pandas                   \u001b[0m       2.2.2  py310hf9f9076_1      conda-forge       13MB\n",
            "  \u001b[32m+ sqlalchemy               \u001b[0m      2.0.31  py310hc51659f_0      conda-forge        3MB\n",
            "  \u001b[32m+ cairo                    \u001b[0m      1.18.0  h3faef2a_0           conda-forge      982kB\n",
            "  \u001b[32m+ matplotlib-base          \u001b[0m       3.9.1  py310h0b1de36_0      conda-forge        7MB\n",
            "  \u001b[32m+ pycairo                  \u001b[0m      1.26.1  py310he029307_0      conda-forge      116kB\n",
            "  \u001b[32m+ librdkit                 \u001b[0m   2024.03.5  h79cfef2_2           conda-forge       21MB\n",
            "  \u001b[32m+ rlpycairo                \u001b[0m       0.2.0  pyhd8ed1ab_0         conda-forge       15kB\n",
            "  \u001b[32m+ reportlab                \u001b[0m       4.2.2  py310hc51659f_0      conda-forge        2MB\n",
            "  \u001b[32m+ rdkit                    \u001b[0m   2024.03.5  py310h57e35d3_2      conda-forge        6MB\n",
            "\n",
            "  Upgrade:\n",
            "────────────────────────────────────────────────────────────────────────────────────────\n",
            "\n",
            "  \u001b[31m- ca-certificates          \u001b[0m  2023.11.17  hbcca054_0           conda-forge\u001b[32m     Cached\u001b[0m\n",
            "  \u001b[32m+ ca-certificates          \u001b[0m    2024.7.4  hbcca054_0           conda-forge      155kB\n",
            "  \u001b[31m- openssl                  \u001b[0m       3.2.0  hd590300_1           conda-forge\u001b[32m     Cached\u001b[0m\n",
            "  \u001b[32m+ openssl                  \u001b[0m       3.3.1  h4bc722e_2           conda-forge        3MB\n",
            "  \u001b[31m- certifi                  \u001b[0m  2023.11.17  pyhd8ed1ab_0         conda-forge\u001b[32m     Cached\u001b[0m\n",
            "  \u001b[32m+ certifi                  \u001b[0m    2024.7.4  pyhd8ed1ab_0         conda-forge      159kB\n",
            "\n",
            "  Summary:\n",
            "\n",
            "  Install: 77 packages\n",
            "  Upgrade: 3 packages\n",
            "\n",
            "  Total download: 138MB\n",
            "\n",
            "────────────────────────────────────────────────────────────────────────────────────────\n",
            "\n",
            "\n",
            "\u001b[?25l\u001b[2K\u001b[0G[+] 0.0s\n",
            "Downloading        0%\n",
            "Extracting         0%\u001b[2K\u001b[1A\u001b[2K\u001b[1A\u001b[2K\u001b[0Gxorg-xextproto                                      30.3kB @ 474.8kB/s  0.1s\n",
            "xorg-libice                                         58.5kB @ 797.4kB/s  0.1s\n",
            "ca-certificates                                    154.9kB @   1.8MB/s  0.1s\n",
            "zlib                                                92.8kB @   1.1MB/s  0.1s\n",
            "libpng                                             288.2kB @   3.2MB/s  0.1s\n",
            "kiwisolver                                          73.1kB @ 746.1kB/s  0.0s\n",
            "[+] 0.1s\n",
            "Downloading  (5)   1%\n",
            "Extracting   (5)  ⣾  \u001b[2K\u001b[1A\u001b[2K\u001b[1A\u001b[2K\u001b[0Glibbrotlicommon                                     69.4kB @ 648.6kB/s  0.0s\n",
            "greenlet                                           211.0kB @   1.8MB/s  0.0s\n",
            "xorg-libxdmcp                                       19.1kB @ 146.9kB/s  0.0s\n",
            "pixman                                             386.8kB @   2.7MB/s  0.1s\n",
            "freetype                                           635.0kB @   4.4MB/s  0.0s\n",
            "libbrotlidec                                        32.8kB @ 218.3kB/s  0.0s\n",
            "pcre2                                              950.8kB @   6.1MB/s  0.1s\n",
            "libgfortran-ng                                      48.4kB @ 302.1kB/s  0.0s\n",
            "lcms2                                              245.2kB @   1.4MB/s  0.0s\n",
            "openjpeg                                           341.6kB @   1.9MB/s  0.0s\n",
            "[+] 0.2s\n",
            "Downloading  (7)   5%\n",
            "Extracting  (12)  ⣾  \u001b[2K\u001b[1A\u001b[2K\u001b[1A\u001b[2K\u001b[0Gxorg-libxext                                        50.1kB @ 245.1kB/s  0.1s\n",
            "liblapack                                           14.8kB @  72.3kB/s  0.0s\n",
            "libboost-python                                    121.1kB @ 539.8kB/s  0.0s\n",
            "font-ttf-inconsolata                                96.5kB @ 429.3kB/s  0.0s\n",
            "libopenblas                                          5.6MB @  23.2MB/s  0.1s\n",
            "pytz                                               188.5kB @ 777.3kB/s  0.0s\n",
            "python-tzdata                                      144.0kB @ 590.8kB/s  0.0s\n",
            "freetype-py                                         58.9kB @ 228.0kB/s  0.0s\n",
            "typing_extensions                                   39.9kB @ 152.5kB/s  0.0s\n",
            "[+] 0.3s\n",
            "Downloading  (5)  10%\n",
            "Extracting  (21)  ⣾  \u001b[2K\u001b[1A\u001b[2K\u001b[1A\u001b[2K\u001b[0Glerc                                               281.8kB @ 830.9kB/s  0.1s\n",
            "fonttools                                            2.4MB @   6.8MB/s  0.1s\n",
            "[+] 0.4s\n",
            "Downloading  (5)  17%\n",
            "Extracting  (21)  ⣾  \u001b[2K\u001b[1A\u001b[2K\u001b[1A\u001b[2K\u001b[0Grdkit                                                6.4MB @  15.4MB/s  0.2s\n",
            "qhull                                              552.9kB @   1.3MB/s  0.1s\n",
            "xorg-libxau                                         14.5kB @  34.3kB/s  0.1s\n",
            "matplotlib-base                                      7.0MB @  15.9MB/s  0.2s\n",
            "xorg-renderproto                                     9.6kB @  20.1kB/s  0.1s\n",
            "xorg-kbproto                                        27.3kB @  56.8kB/s  0.1s\n",
            "xorg-xproto                                         74.9kB @ 155.6kB/s  0.1s\n",
            "[+] 0.5s\n",
            "Downloading  (5)  26%\n",
            "Extracting  (27)  ⣾  \u001b[2K\u001b[1A\u001b[2K\u001b[1A\u001b[2K\u001b[0Glibtiff                                            282.7kB @ 523.9kB/s  0.1s\n",
            "brotli-bin                                          19.0kB @  35.2kB/s  0.1s\n",
            "fontconfig                                         272.0kB @ 503.2kB/s  0.1s\n",
            "[+] 0.6s\n",
            "Downloading  (5)  30%\n",
            "Extracting  (30)  ⣾  \u001b[2K\u001b[1A\u001b[2K\u001b[1A\u001b[2K\u001b[0Gpandas                                              13.0MB @  22.6MB/s  0.4s\n",
            "xorg-libxrender                                     37.8kB @  62.6kB/s  0.1s\n",
            "libcblas                                            14.8kB @  24.5kB/s  0.1s\n",
            "libpq                                                2.5MB @   3.9MB/s  0.2s\n",
            "pyparsing                                           89.5kB @ 136.7kB/s  0.0s\n",
            "six                                                 14.3kB @  21.8kB/s  0.0s\n",
            "munkres                                             12.5kB @  18.7kB/s  0.0s\n",
            "[+] 0.7s\n",
            "Downloading  (5)  36%\n",
            "Extracting  (36)  ⣾  \u001b[2K\u001b[1A\u001b[2K\u001b[1A\u001b[2K\u001b[0Gpycairo                                            116.0kB @ 166.9kB/s  0.1s\n",
            "rlpycairo                                           14.9kB @  20.6kB/s  0.1s\n",
            "libexpat                                            73.7kB @ 101.2kB/s  0.1s\n",
            "numpy                                                7.8MB @  10.3MB/s  0.2s\n",
            "xorg-libsm                                          27.4kB @  35.8kB/s  0.0s\n",
            "libbrotlienc                                       282.5kB @ 364.6kB/s  0.0s\n",
            "expat                                              137.6kB @ 177.5kB/s  0.0s\n",
            "[+] 0.8s\n",
            "Downloading  (5)  39%\n",
            "Extracting  (41)  ⣾  \u001b[2K\u001b[1A\u001b[2K\u001b[1A\u001b[2K\u001b[0Gbrotli                                              19.4kB @  23.8kB/s  0.0s\n",
            "libblas                                             14.9kB @  18.2kB/s  0.1s\n",
            "certifi                                            159.3kB @ 195.1kB/s  0.1s\n",
            "contourpy                                          241.9kB @ 285.8kB/s  0.1s\n",
            "[+] 0.9s\n",
            "Downloading  (5)  45%\n",
            "Extracting  (45)  ⣾  \u001b[2K\u001b[1A\u001b[2K\u001b[1A\u001b[2K\u001b[0Gfonts-conda-ecosystem                                3.7kB @   4.2kB/s  0.1s\n",
            "cairo                                              982.4kB @   1.1MB/s  0.1s\n",
            "libgfortran5                                         1.5MB @   1.6MB/s  0.1s\n",
            "sqlalchemy                                           2.8MB @   2.9MB/s  0.2s\n",
            "xorg-libx11                                        828.1kB @ 861.6kB/s  0.1s\n",
            "font-ttf-dejavu-sans-mono                          397.4kB @ 407.8kB/s  0.1s\n",
            "[+] 1.0s\n",
            "Downloading  (5)  52%\n",
            "Extracting  (49)  ⣾  \u001b[2K\u001b[1A\u001b[2K\u001b[1A\u001b[2K\u001b[0Gtyping-extensions                                   10.1kB @  10.0kB/s  0.0s\n",
            "python-dateutil                                    222.7kB @ 212.7kB/s  0.1s\n",
            "pthread-stubs                                        5.6kB @   5.3kB/s  0.1s\n",
            "[+] 1.1s\n",
            "Downloading  (5)  57%\n",
            "Extracting  (50)  ⣾  \u001b[2K\u001b[1A\u001b[2K\u001b[1A\u001b[2K\u001b[0Greportlab                                            2.4MB @   2.1MB/s  0.1s\n",
            "cycler                                              13.5kB @  12.0kB/s  0.1s\n",
            "font-ttf-ubuntu                                      1.6MB @   1.4MB/s  0.1s\n",
            "libdeflate                                          71.5kB @  61.4kB/s  0.0s\n",
            "[+] 1.2s\n",
            "Downloading  (5)  63%\n",
            "Extracting  (52)  ⣾  \u001b[2K\u001b[1A\u001b[2K\u001b[1A\u001b[2K\u001b[0Glibwebp-base                                       439.0kB @ 363.7kB/s  0.1s\n",
            "libxcb                                             384.2kB @ 317.5kB/s  0.0s\n",
            "font-ttf-source-code-pro                           700.8kB @ 577.6kB/s  0.0s\n",
            "[+] 1.3s\n",
            "Downloading  (5)  70%\n",
            "Extracting  (52)  ⣾  \u001b[2K\u001b[1A\u001b[2K\u001b[1A\u001b[2K\u001b[0Gchardet                                            246.6kB @ 192.7kB/s  0.1s\n",
            "fonts-conda-forge                                    4.1kB @   3.0kB/s  0.1s\n",
            "librdkit                                            20.9MB @  15.3MB/s  0.7s\n",
            "openssl                                              2.9MB @   2.1MB/s  0.2s\n",
            "libglib                                              3.9MB @   2.8MB/s  0.2s\n",
            "[+] 1.4s\n",
            "Downloading  (4)  77%\n",
            "Extracting  (55)  ⣾  \u001b[2K\u001b[1A\u001b[2K\u001b[1A\u001b[2K\u001b[0Glibjpeg-turbo                                      618.6kB @ 436.2kB/s  0.0s\n",
            "unicodedata2                                       374.1kB @ 263.6kB/s  0.0s\n",
            "libboost                                             2.8MB @   1.9MB/s  0.1s\n",
            "[+] 1.5s\n",
            "Downloading  (1)  83%\n",
            "Extracting  (56)  ⣾  \u001b[2K\u001b[1A\u001b[2K\u001b[1A\u001b[2K\u001b[0G[+] 1.6s\n",
            "Downloading  (1)  85%\n",
            "Extracting  (57)  ⣾  \u001b[2K\u001b[1A\u001b[2K\u001b[1A\u001b[2K\u001b[0G[+] 1.7s\n",
            "Downloading  (1)  93%\n",
            "Extracting  (55)  ⣾  \u001b[2K\u001b[1A\u001b[2K\u001b[1A\u001b[2K\u001b[0Gpillow                                              41.8MB @  23.7MB/s  0.9s\n",
            "[+] 1.8s\n",
            "Downloading      100%\n",
            "Extracting  (56)  ⣾  \u001b[2K\u001b[1A\u001b[2K\u001b[1A\u001b[2K\u001b[0G[+] 1.9s\n",
            "Downloading      100%\n",
            "Extracting  (54)  ⣾  \u001b[2K\u001b[1A\u001b[2K\u001b[1A\u001b[2K\u001b[0G[+] 2.0s\n",
            "Downloading      100%\n",
            "Extracting  (52)  ⣾  \u001b[2K\u001b[1A\u001b[2K\u001b[1A\u001b[2K\u001b[0G[+] 2.1s\n",
            "Downloading      100%\n",
            "Extracting  (50)  ⣾  \u001b[2K\u001b[1A\u001b[2K\u001b[1A\u001b[2K\u001b[0G[+] 2.2s\n",
            "Downloading      100%\n",
            "Extracting  (48)  ⣾  \u001b[2K\u001b[1A\u001b[2K\u001b[1A\u001b[2K\u001b[0G[+] 2.3s\n",
            "Downloading      100%\n",
            "Extracting  (47)  ⣾  \u001b[2K\u001b[1A\u001b[2K\u001b[1A\u001b[2K\u001b[0G[+] 2.4s\n",
            "Downloading      100%\n",
            "Extracting  (45)  ⣾  \u001b[2K\u001b[1A\u001b[2K\u001b[1A\u001b[2K\u001b[0G[+] 2.5s\n",
            "Downloading      100%\n",
            "Extracting  (44)  ⣾  \u001b[2K\u001b[1A\u001b[2K\u001b[1A\u001b[2K\u001b[0G[+] 2.6s\n",
            "Downloading      100%\n",
            "Extracting  (43)  ⣾  \u001b[2K\u001b[1A\u001b[2K\u001b[1A\u001b[2K\u001b[0G[+] 2.7s\n",
            "Downloading      100%\n",
            "Extracting  (42)  ⣾  \u001b[2K\u001b[1A\u001b[2K\u001b[1A\u001b[2K\u001b[0G[+] 2.8s\n",
            "Downloading      100%\n",
            "Extracting  (40)  ⣾  \u001b[2K\u001b[1A\u001b[2K\u001b[1A\u001b[2K\u001b[0G[+] 2.9s\n",
            "Downloading      100%\n",
            "Extracting  (40)  ⣾  \u001b[2K\u001b[1A\u001b[2K\u001b[1A\u001b[2K\u001b[0G[+] 3.0s\n",
            "Downloading      100%\n",
            "Extracting  (40)  ⣾  \u001b[2K\u001b[1A\u001b[2K\u001b[1A\u001b[2K\u001b[0G[+] 3.1s\n",
            "Downloading      100%\n",
            "Extracting  (39)  ⣾  \u001b[2K\u001b[1A\u001b[2K\u001b[1A\u001b[2K\u001b[0G[+] 3.2s\n",
            "Downloading      100%\n",
            "Extracting  (38)  ⣾  \u001b[2K\u001b[1A\u001b[2K\u001b[1A\u001b[2K\u001b[0G[+] 3.3s\n",
            "Downloading      100%\n",
            "Extracting  (37)  ⣾  \u001b[2K\u001b[1A\u001b[2K\u001b[1A\u001b[2K\u001b[0G[+] 3.4s\n",
            "Downloading      100%\n",
            "Extracting  (36)  ⣾  \u001b[2K\u001b[1A\u001b[2K\u001b[1A\u001b[2K\u001b[0G[+] 3.5s\n",
            "Downloading      100%\n",
            "Extracting  (34)  ⣾  \u001b[2K\u001b[1A\u001b[2K\u001b[1A\u001b[2K\u001b[0G[+] 3.6s\n",
            "Downloading      100%\n",
            "Extracting  (32)  ⣾  \u001b[2K\u001b[1A\u001b[2K\u001b[1A\u001b[2K\u001b[0G[+] 3.7s\n",
            "Downloading      100%\n",
            "Extracting  (32)  ⣾  \u001b[2K\u001b[1A\u001b[2K\u001b[1A\u001b[2K\u001b[0G[+] 3.8s\n",
            "Downloading      100%\n",
            "Extracting  (32)  ⣾  \u001b[2K\u001b[1A\u001b[2K\u001b[1A\u001b[2K\u001b[0G[+] 3.9s\n",
            "Downloading      100%\n",
            "Extracting  (28)  ⣾  \u001b[2K\u001b[1A\u001b[2K\u001b[1A\u001b[2K\u001b[0G[+] 4.0s\n",
            "Downloading      100%\n",
            "Extracting  (27)  ⣾  \u001b[2K\u001b[1A\u001b[2K\u001b[1A\u001b[2K\u001b[0G[+] 4.1s\n",
            "Downloading      100%\n",
            "Extracting  (25)  ⣾  \u001b[2K\u001b[1A\u001b[2K\u001b[1A\u001b[2K\u001b[0G[+] 4.2s\n",
            "Downloading      100%\n",
            "Extracting  (25)  ⣾  \u001b[2K\u001b[1A\u001b[2K\u001b[1A\u001b[2K\u001b[0G[+] 4.3s\n",
            "Downloading      100%\n",
            "Extracting  (25)  ⣾  \u001b[2K\u001b[1A\u001b[2K\u001b[1A\u001b[2K\u001b[0G[+] 4.4s\n",
            "Downloading      100%\n",
            "Extracting  (25)  ⣾  \u001b[2K\u001b[1A\u001b[2K\u001b[1A\u001b[2K\u001b[0G[+] 4.5s\n",
            "Downloading      100%\n",
            "Extracting  (25)  ⣾  \u001b[2K\u001b[1A\u001b[2K\u001b[1A\u001b[2K\u001b[0G[+] 4.6s\n",
            "Downloading      100%\n",
            "Extracting  (25)  ⣾  \u001b[2K\u001b[1A\u001b[2K\u001b[1A\u001b[2K\u001b[0G[+] 4.7s\n",
            "Downloading      100%\n",
            "Extracting  (24)  ⣾  \u001b[2K\u001b[1A\u001b[2K\u001b[1A\u001b[2K\u001b[0G[+] 4.8s\n",
            "Downloading      100%\n",
            "Extracting  (23)  ⣾  \u001b[2K\u001b[1A\u001b[2K\u001b[1A\u001b[2K\u001b[0G[+] 4.9s\n",
            "Downloading      100%\n",
            "Extracting  (22)  ⣾  \u001b[2K\u001b[1A\u001b[2K\u001b[1A\u001b[2K\u001b[0G[+] 5.0s\n",
            "Downloading      100%\n",
            "Extracting  (20)  ⣾  \u001b[2K\u001b[1A\u001b[2K\u001b[1A\u001b[2K\u001b[0G[+] 5.1s\n",
            "Downloading      100%\n",
            "Extracting  (20)  ⣾  \u001b[2K\u001b[1A\u001b[2K\u001b[1A\u001b[2K\u001b[0G[+] 5.2s\n",
            "Downloading      100%\n",
            "Extracting  (20)  ⣾  \u001b[2K\u001b[1A\u001b[2K\u001b[1A\u001b[2K\u001b[0G[+] 5.3s\n",
            "Downloading      100%\n",
            "Extracting  (20)  ⣾  \u001b[2K\u001b[1A\u001b[2K\u001b[1A\u001b[2K\u001b[0G[+] 5.4s\n",
            "Downloading      100%\n",
            "Extracting  (20)  ⣾  \u001b[2K\u001b[1A\u001b[2K\u001b[1A\u001b[2K\u001b[0G[+] 5.5s\n",
            "Downloading      100%\n",
            "Extracting  (20)  ⣾  \u001b[2K\u001b[1A\u001b[2K\u001b[1A\u001b[2K\u001b[0G[+] 5.6s\n",
            "Downloading      100%\n",
            "Extracting  (20)  ⣾  \u001b[2K\u001b[1A\u001b[2K\u001b[1A\u001b[2K\u001b[0G[+] 5.7s\n",
            "Downloading      100%\n",
            "Extracting  (20)  ⣾  \u001b[2K\u001b[1A\u001b[2K\u001b[1A\u001b[2K\u001b[0G[+] 5.8s\n",
            "Downloading      100%\n",
            "Extracting  (20)  ⣾  \u001b[2K\u001b[1A\u001b[2K\u001b[1A\u001b[2K\u001b[0G[+] 5.9s\n",
            "Downloading      100%\n",
            "Extracting  (20)  ⣾  \u001b[2K\u001b[1A\u001b[2K\u001b[1A\u001b[2K\u001b[0G[+] 6.0s\n",
            "Downloading      100%\n",
            "Extracting  (20)  ⣾  \u001b[2K\u001b[1A\u001b[2K\u001b[1A\u001b[2K\u001b[0G[+] 6.1s\n",
            "Downloading      100%\n",
            "Extracting  (20)  ⣾  \u001b[2K\u001b[1A\u001b[2K\u001b[1A\u001b[2K\u001b[0G[+] 6.2s\n",
            "Downloading      100%\n",
            "Extracting  (20)  ⣾  \u001b[2K\u001b[1A\u001b[2K\u001b[1A\u001b[2K\u001b[0G[+] 6.3s\n",
            "Downloading      100%\n",
            "Extracting  (20)  ⣾  \u001b[2K\u001b[1A\u001b[2K\u001b[1A\u001b[2K\u001b[0G[+] 6.4s\n",
            "Downloading      100%\n",
            "Extracting  (20)  ⣾  \u001b[2K\u001b[1A\u001b[2K\u001b[1A\u001b[2K\u001b[0G[+] 6.5s\n",
            "Downloading      100%\n",
            "Extracting  (20)  ⣾  \u001b[2K\u001b[1A\u001b[2K\u001b[1A\u001b[2K\u001b[0G[+] 6.6s\n",
            "Downloading      100%\n",
            "Extracting  (20)  ⣾  \u001b[2K\u001b[1A\u001b[2K\u001b[1A\u001b[2K\u001b[0G[+] 6.7s\n",
            "Downloading      100%\n",
            "Extracting  (20)  ⣾  \u001b[2K\u001b[1A\u001b[2K\u001b[1A\u001b[2K\u001b[0G[+] 6.8s\n",
            "Downloading      100%\n",
            "Extracting  (20)  ⣾  \u001b[2K\u001b[1A\u001b[2K\u001b[1A\u001b[2K\u001b[0G[+] 6.9s\n",
            "Downloading      100%\n",
            "Extracting  (20)  ⣾  \u001b[2K\u001b[1A\u001b[2K\u001b[1A\u001b[2K\u001b[0G[+] 7.0s\n",
            "Downloading      100%\n",
            "Extracting  (19)  ⣾  \u001b[2K\u001b[1A\u001b[2K\u001b[1A\u001b[2K\u001b[0G[+] 7.1s\n",
            "Downloading      100%\n",
            "Extracting  (16)  ⣾  \u001b[2K\u001b[1A\u001b[2K\u001b[1A\u001b[2K\u001b[0G[+] 7.2s\n",
            "Downloading      100%\n",
            "Extracting  (16)  ⣾  \u001b[2K\u001b[1A\u001b[2K\u001b[1A\u001b[2K\u001b[0G[+] 7.3s\n",
            "Downloading      100%\n",
            "Extracting  (14)  ⣾  \u001b[2K\u001b[1A\u001b[2K\u001b[1A\u001b[2K\u001b[0G[+] 7.4s\n",
            "Downloading      100%\n",
            "Extracting  (13)  ⣾  \u001b[2K\u001b[1A\u001b[2K\u001b[1A\u001b[2K\u001b[0G[+] 7.5s\n",
            "Downloading      100%\n",
            "Extracting  (10)  ⣾  \u001b[2K\u001b[1A\u001b[2K\u001b[1A\u001b[2K\u001b[0G[+] 7.6s\n",
            "Downloading      100%\n",
            "Extracting   (8)  ⣾  \u001b[2K\u001b[1A\u001b[2K\u001b[1A\u001b[2K\u001b[0G[+] 7.7s\n",
            "Downloading      100%\n",
            "Extracting   (7)  ⣾  \u001b[2K\u001b[1A\u001b[2K\u001b[1A\u001b[2K\u001b[0G[+] 7.8s\n",
            "Downloading      100%\n",
            "Extracting   (5)  ⣾  \u001b[2K\u001b[1A\u001b[2K\u001b[1A\u001b[2K\u001b[0G[+] 7.9s\n",
            "Downloading      100%\n",
            "Extracting   (4)  ⣾  \u001b[2K\u001b[1A\u001b[2K\u001b[1A\u001b[2K\u001b[0G[+] 8.0s\n",
            "Downloading      100%\n",
            "Extracting   (3)  ⣾  \u001b[2K\u001b[1A\u001b[2K\u001b[1A\u001b[2K\u001b[0G[+] 8.1s\n",
            "Downloading      100%\n",
            "Extracting   (2)  ⣾  \u001b[2K\u001b[1A\u001b[2K\u001b[1A\u001b[2K\u001b[0G[+] 8.2s\n",
            "Downloading      100%\n",
            "Extracting   (1)  ⣾  \u001b[2K\u001b[1A\u001b[2K\u001b[1A\u001b[2K\u001b[0G[+] 8.3s\n",
            "Downloading      100%\n",
            "Extracting       100%\u001b[2K\u001b[1A\u001b[2K\u001b[1A\u001b[2K\u001b[0G\u001b[?25h\n",
            "Downloading and Extracting Packages:\n",
            "\n",
            "Preparing transaction: - \b\b\\ \b\b| \b\b/ \b\b- \b\b\\ \b\b| \b\b/ \b\b- \b\bdone\n",
            "Verifying transaction: | \b\b/ \b\b- \b\b\\ \b\b| \b\b/ \b\b- \b\b\\ \b\b| \b\b/ \b\b- \b\b\\ \b\b| \b\b/ \b\b- \b\b\\ \b\b| \b\b/ \b\b- \b\b\\ \b\b| \b\bdone\n",
            "Executing transaction: - \b\b\\ \b\b| \b\b/ \b\b- \b\b\\ \b\b| \b\b/ \b\b- \b\b\\ \b\b| \b\b/ \b\b- \b\b\\ \b\b| \b\b/ \b\b- \b\b\\ \b\b| \b\b/ \b\b- \b\b\\ \b\b| \b\bdone\n"
          ]
        }
      ],
      "source": [
        "!mamba install -c conda-forge rdkit"
      ]
    },
    {
      "cell_type": "code",
      "execution_count": null,
      "metadata": {
        "id": "XFx3iGVr8y99"
      },
      "outputs": [],
      "source": [
        "import pandas as pd\n",
        "import numpy as np\n",
        "from rdkit import Chem\n",
        "from rdkit.Chem import AllChem, MACCSkeys, rdMolDescriptors"
      ]
    },
    {
      "cell_type": "markdown",
      "source": [
        "# Nolatrexed"
      ],
      "metadata": {
        "id": "0aDFHvrteTQS"
      }
    },
    {
      "cell_type": "code",
      "source": [
        "from rdkit.Chem import MACCSkeys\n",
        "nolatrexed = Chem.MolFromSmiles(\"CC1=C(C2=C(C=C1)N=C(NC2=O)N)SC3=CC=NC=C3\")\n",
        "# MACCS Keys\n",
        "maccs_nolatrexed = MACCSkeys.GenMACCSKeys(nolatrexed)\n",
        "nolatrexed_maccs_bit = maccs_nolatrexed.ToBitString()\n",
        "print(\"MACCS Keys Fingerprint:\", nolatrexed_maccs_bit)\n",
        "print(tuple(maccs_nolatrexed.GetOnBits())) # get the index of 1-bit"
      ],
      "metadata": {
        "id": "kaw_vqgQGlXy",
        "colab": {
          "base_uri": "https://localhost:8080/"
        },
        "outputId": "2ef5c8a9-6424-411c-fbfb-a0bbe8cd6f42"
      },
      "execution_count": null,
      "outputs": [
        {
          "output_type": "stream",
          "name": "stdout",
          "text": [
            "MACCS Keys Fingerprint: 00000000000000000000000001000000000000000001000000000000000100001100000000000100110010001000100001100100011000100100010011000101000101010100001111000011001010101111110\n",
            "(25, 43, 59, 64, 65, 77, 80, 81, 84, 88, 92, 97, 98, 101, 105, 106, 110, 113, 117, 120, 121, 125, 127, 131, 133, 135, 137, 142, 143, 144, 145, 150, 151, 154, 156, 158, 160, 161, 162, 163, 164, 165)\n"
          ]
        }
      ]
    },
    {
      "cell_type": "code",
      "source": [
        "# Pubchem Fingerprint\n",
        "from rdkit import skfp\n",
        "from skfp.fingerprints import PubChemFingerprint"
      ],
      "metadata": {
        "colab": {
          "base_uri": "https://localhost:8080/",
          "height": 349
        },
        "id": "_wE0QbpG2LmB",
        "outputId": "891e358a-e477-415f-fdef-abe1ba64bcf1"
      },
      "execution_count": null,
      "outputs": [
        {
          "output_type": "error",
          "ename": "ImportError",
          "evalue": "cannot import name 'skfp' from 'rdkit' (/usr/local/lib/python3.10/site-packages/rdkit/__init__.py)",
          "traceback": [
            "\u001b[0;31m---------------------------------------------------------------------------\u001b[0m",
            "\u001b[0;31mImportError\u001b[0m                               Traceback (most recent call last)",
            "\u001b[0;32m<ipython-input-2-4dd2b9e0f1d7>\u001b[0m in \u001b[0;36m<cell line: 2>\u001b[0;34m()\u001b[0m\n\u001b[1;32m      1\u001b[0m \u001b[0;31m# Pubchem Fingerprint\u001b[0m\u001b[0;34m\u001b[0m\u001b[0;34m\u001b[0m\u001b[0m\n\u001b[0;32m----> 2\u001b[0;31m \u001b[0;32mfrom\u001b[0m \u001b[0mrdkit\u001b[0m \u001b[0;32mimport\u001b[0m \u001b[0mskfp\u001b[0m\u001b[0;34m\u001b[0m\u001b[0;34m\u001b[0m\u001b[0m\n\u001b[0m\u001b[1;32m      3\u001b[0m \u001b[0;32mfrom\u001b[0m \u001b[0mskfp\u001b[0m\u001b[0;34m.\u001b[0m\u001b[0mfingerprints\u001b[0m \u001b[0;32mimport\u001b[0m \u001b[0mPubChemFingerprint\u001b[0m\u001b[0;34m\u001b[0m\u001b[0;34m\u001b[0m\u001b[0m\n",
            "\u001b[0;31mImportError\u001b[0m: cannot import name 'skfp' from 'rdkit' (/usr/local/lib/python3.10/site-packages/rdkit/__init__.py)",
            "",
            "\u001b[0;31m---------------------------------------------------------------------------\u001b[0;32m\nNOTE: If your import is failing due to a missing package, you can\nmanually install dependencies using either !pip or !apt.\n\nTo view examples of installing some common dependencies, click the\n\"Open Examples\" button below.\n\u001b[0;31m---------------------------------------------------------------------------\u001b[0m\n"
          ],
          "errorDetails": {
            "actions": [
              {
                "action": "open_url",
                "actionText": "Open Examples",
                "url": "/notebooks/snippets/importing_libraries.ipynb"
              }
            ]
          }
        }
      ]
    },
    {
      "cell_type": "code",
      "source": [
        "# RDKit Fingerprint\n",
        "rdkit_nolatrexed = Chem.RDKFingerprint(nolatrexed)\n",
        "print(\"RDKit Fingerprint:\", rdkit_nolatrexed.ToBitString())\n",
        "print(len(rdkit_nolatrexed.ToBitString()))"
      ],
      "metadata": {
        "colab": {
          "base_uri": "https://localhost:8080/"
        },
        "id": "h0wOzw97aAcj",
        "outputId": "fe5d1717-c437-4a12-c3a4-6b260dd5fa26"
      },
      "execution_count": null,
      "outputs": [
        {
          "output_type": "stream",
          "name": "stdout",
          "text": [
            "RDKit Fingerprint: 10111100000110000000010111100001001101001100100010110101010100000101111010100101000111000101110110011101111000101000011011001010001100001100111001110000100000101100001001110011011111010000001100111000000100001100101000111100100001010111110100100110100001000111000111011010001010100001110000001010101001010111011100001010000010010011000100100110101000100010010000110011000100000000001101100010001101001001011100001000010001011110110000000000010001100010100000000100100000001001010011110001000000001111011000001110001011100110010010110010000010000000001000000110011010000010000000000000010000000001000000001001010010010000000010100000111110001001000100010001000101010010101110111100001010111100101101000000100001000000110100000101111010000010001010010010101110010001010000000000000110010110110010010001000100001100010000010001010011100100001011100000011011110111000110101010001010000101010100001000010110000100101000110011101010010010011100101001001010000001101011111010010010000110101010100001001110100000111000001110101000001111000000001110000001011101010010101000100001101001100101101001110010010100111101000010001011000001010000111101111000000101011000010000100101010001000101000001000001100010101001000001000001110001000110000001101001011000000001100101100001101001100001010011101000011010000001000100011000000100001011000101000101001011011011100010000101010010110011110110000100110110001001000011100000101000111000000100100001101010000010010000001000111011000000100100001011100111000011001010110001101000000100010000111000101000001100001010010010000100111010000000100000100111101110110001001011001010111000111000010010000001011001000000110101000110001011111010000000010000101011100100111000100101011001100000001000010100000000111101010001000100111001000001001000000000100000100010101100101001100000001010010000011011100100001001101110100011011000100001000000100110001111111101001001101100101110001011101111010100100101010000011101010000010010001101010001100010101100111001111100010000000000110000000110011001010010110110110000001001100001100001\n",
            "2048\n"
          ]
        }
      ]
    },
    {
      "cell_type": "code",
      "source": [
        "# Morgan Fingerprint\n",
        "ecfp_nolatrexed = AllChem.GetMorganFingerprintAsBitVect(nolatrexed, 4)\n",
        "print(ecfp_nolatrexed.ToBitString())"
      ],
      "metadata": {
        "colab": {
          "base_uri": "https://localhost:8080/"
        },
        "id": "7j3yiVJpelTQ",
        "outputId": "c78a1285-32cb-4fd5-be72-fdd0c3283695"
      },
      "execution_count": null,
      "outputs": [
        {
          "output_type": "stream",
          "name": "stdout",
          "text": [
            "00000000000001000001000000000000000000000000000000000000000000000001000000000000000000000000000000000000000000001000100000000000000000000000000000000000000010000000000000000000000000000000000000000000000000000000000000000000000000000000000000000000010000000000000000000000000000000000000000000000000000000000000000100000000000000000011000000000000000000000000000000000000001100010000100000000000000000000000000000000000000000000000000000000000000000000000000000000000000000000000000000000000000000000000000000000000000000000000000000000000000000000000010000000000000000000000000000000000000000000000000000000000000000000000000000000000000000000000000101000000000000000000000000000000000000000100001000000000000000000000000000000000001000000000000000010000000000000000000000000000000000000000000000000000000000001000000000000000000000000000000000000100000000000000000000000000000000000000000000000000000000000000000000000000000000000000000000000000000000000001001000000100000000000000000000000100000000000000000000000000000000000000000000000000000000000000001000000000000000000000100000000000000000100000000000000001000000000000000000000000000000000000000000000000000000001000000000000000000000000000000000010100000000000000000000000000000000000000000000000000000000000000000000000000000000000000000000000000000001000000000000000000000000000000000000100000000000000000000000000000010000000000100000000000000000000000000000000000000000000000000000000000010000100000000000000000000000000000000000000000000000000000000000000000000000000100000000000000000000000010010000000010010000000000000000000000000000001000000000000000000010000000000000000000000000000000000000000000000000000000000000000000100000000000000000000000010000010001000000000000001000100001000000000000000000000000000000000000000000000000000100000000000000000000000000000000000001000000000000001000000000010000001000000000000000000000000000000000000000000000000000000000000000000100000000000000000000000000000000000000000001000000000000000000000000000000000000000000000000000000000000000\n"
          ]
        },
        {
          "output_type": "stream",
          "name": "stderr",
          "text": [
            "[14:05:52] DEPRECATION WARNING: please use MorganGenerator\n"
          ]
        }
      ]
    },
    {
      "cell_type": "code",
      "source": [
        "# Atom-Pair fingerprint\n",
        "from rdkit.Chem import rdMolDescriptors\n",
        "ap_nolatrexed = rdMolDescriptors.GetHashedAtomPairFingerprintAsBitVect(nolatrexed)\n",
        "print(ap_nolatrexed.ToBitString())"
      ],
      "metadata": {
        "colab": {
          "base_uri": "https://localhost:8080/"
        },
        "id": "B3lKSQznepKF",
        "outputId": "8aa030dc-ff81-4e37-f424-9151f61935c4"
      },
      "execution_count": null,
      "outputs": [
        {
          "output_type": "stream",
          "name": "stdout",
          "text": [
            "00000000000000001000000000000000000000000000100000000000000000001000110011101000000000000000000010000000000000000000000000001100000000000000000011100000000000000000000000000000000000000000000011000000000011000000000000000000000010000000000011101110000000000000110000000000000000000000111000000000110000000000000000000000110000000000000000000000000000000000000000000000111000000000000010000000000000000000110000000000000000001000000000000000000000000000000000001100000000000000000000000000000000001111110000000000000000000000000000000000100000000000111000000000000000000000000000000000000000000000000000001100000000000000000000001000000010000000000000000000000000001110000000001000000000000000000000000000000000001000000000000000000000000000000000000000000000000000111110000000000000000000000000000000111000000000000000000000000000000000000000000000000010001000000000000000000000000000000010000000000000000000000000000000000011000000000000000000000000000000000000001000000000000000000000000000000000000000000000000000111011000000000000000000000000000000000000000000000000000000000011100000000000000000000000001000100000000000000000000000000010000000100000000000000000000000100000000000000000000000000000000000000011100000000000000000000000000000110011100000000000000000000000000000000000000000000000000000000000000000000000000000000000000000000000000000000000001000000000001100000000000000000010000000000000000000000000000000000000000000000000000000000010000000000000000000000000000000100000000000111000000000111000000000000000000000000000000000000000000000000000000000000000000000000000000000000000000000000000000000000000001100000000001100000000000000000000000000000000000000000000000000000011000000000010000000100000000000000011000000100000000000000000001100000010000000000000000000000000000000000000000000000010000000100000000000000000000000000000001100110000000000100000000000000000000000000011000000000000001100000000000000000000000000000011000000000000000000000000001000000000000000110011001000000000000000000000000000000000000000000000000000\n"
          ]
        },
        {
          "output_type": "stream",
          "name": "stderr",
          "text": [
            "[13:48:09] DEPRECATION WARNING: please use AtomPairGenerator\n"
          ]
        }
      ]
    },
    {
      "cell_type": "code",
      "source": [
        "# Topological Torsion fingerprint\n",
        "tt_nolatrexed = rdMolDescriptors.GetHashedTopologicalTorsionFingerprintAsBitVect(nolatrexed)\n",
        "print(tt_nolatrexed.ToBitString())"
      ],
      "metadata": {
        "colab": {
          "base_uri": "https://localhost:8080/"
        },
        "id": "JgbLzI37esvS",
        "outputId": "7e678504-bdcc-44c0-8ee2-550a640c349e"
      },
      "execution_count": null,
      "outputs": [
        {
          "output_type": "stream",
          "name": "stdout",
          "text": [
            "00000000000000000000000000000000000000000000000000000000000000000000000000000000000000000000000000000000000000000000000000000000000000000000000000000000000000000000000000000000000000000000000000000000000000000000000000000000000000000000000000000000000000000000000000000000000000000000000000000000000000000000000000000000110000000000000010000000000000000000000000000000000000001100110000000000000000000000000000000000000000000000000000000000000000000000111000000000000000000000000000000000000000001000000000001000000000001100000000000000000000000000000000000000000000000000000000000000000000000000000000000000000000000000000000000000000000000000000000000000000000000000000000000000000000000000000000000000000000000000000000000000000000000000000000000000000000001000000000000000000000000000000000000000000000000000000000000000000000000000000000000000000000000000000000000000000000000000000000000000000000000000000000000000000000000000000000000000000000000000000000000000000000000000000000000000000000000000000000000000000000000000000000000000000000000000000000000000000000000000000000000000000000000000000000000000000000000000110000000000000000000000000000000000000000000000000000000000000000000000000000000000000000000000000000000000000010000000000000000000000000000000000000000000000000000000000000001100000000000000000000001100000000000000000011000000000000000000000000000000000000000000110000000000000000000000000000000000000000000000000000000000000000000000000000000000000000000000100000000000000000000000000000000000000000000000000000000000000000000000000000001100000000000000000000000000000000000000000000000000000000000000000000000000000000000000000011000000000000000000000000000000000000000000000000000000000011000000000011000000000000000000000000000000000000000000000000000000110000000000000000000000000000000000000000000000000000000000000000000000000000000000000000000000000000000000100000000000000000000000000000000000000000000000000000000000000000000000000000000000000000000000000000000000000000000000100000000000000000000000000000000000\n"
          ]
        },
        {
          "output_type": "stream",
          "name": "stderr",
          "text": [
            "[13:50:02] DEPRECATION WARNING: please use TopologicalTorsionGenerator\n"
          ]
        }
      ]
    },
    {
      "cell_type": "markdown",
      "source": [
        "# Aspirin"
      ],
      "metadata": {
        "id": "r9x2ToOUeWXq"
      }
    },
    {
      "cell_type": "code",
      "source": [
        "from rdkit.Chem import MACCSkeys\n",
        "aspirin = Chem.MolFromSmiles(\"CC(=O)OC1=CC=CC=C1C(=O)O\")\n",
        "# MACCS Keys\n",
        "maccs_aspirin = MACCSkeys.GenMACCSKeys(aspirin)\n",
        "print(\"MACCS Keys Fingerprint:\", maccs_aspirin.ToBitString())"
      ],
      "metadata": {
        "id": "P4dIfapc2BQr",
        "colab": {
          "base_uri": "https://localhost:8080/"
        },
        "outputId": "61e4c9eb-510d-46d5-f85f-096a625bbe03"
      },
      "execution_count": null,
      "outputs": [
        {
          "output_type": "stream",
          "name": "stdout",
          "text": [
            "MACCS Keys Fingerprint: 00000000000000000000000000000000000000000000000000000000000000000000000000000000000000000100000000000000000000000100000000010011000000001001100110100010101001011011110\n"
          ]
        }
      ]
    },
    {
      "cell_type": "code",
      "source": [
        "# RDKit Fingerprint\n",
        "rdkit_aspirin = Chem.RDKFingerprint(aspirin)\n",
        "print(\"RDKit Fingerprint:\", rdkit_aspirin.ToBitString())"
      ],
      "metadata": {
        "id": "54sTiaIy_WP7",
        "outputId": "42152d60-e885-4fb4-a136-d7953f53eee7",
        "colab": {
          "base_uri": "https://localhost:8080/"
        }
      },
      "execution_count": null,
      "outputs": [
        {
          "output_type": "stream",
          "name": "stdout",
          "text": [
            "RDKit Fingerprint: 00000000000000000000000100000010000100000100100010101000000000100000001000100000000100000001110001000001000010000001000000000000010000000010000001000010100000000111000000100100000000000000000000101100001001001100001110000000010000000100000000110001000000000000010000000100000001000010010000000010000000001000000001000000000000100011000100000010101000000000000000100000000000000000000001001010000010000001000100000100000000001001000010010100010101010000000100000100000001010100010100110000000000000000001000101000010000000010000000000000010000000000010000000001001100000000000000000100000011000000100101000100100100000000000000000001000000000000100110100001011000000000000000001000000000100000001000000000100000000000000010010000000000010001000010000100000010011000011000000000001101001000000010101000000000000000000000000001000000100010010000100000010000110000000000011000100000000001000000000100000000000000010000110000010000110110000000100000101000001010010100000000100010100100000000101010010000000000000000000100000000010010000101000000000100001100000000001000110001011101000001101010000000001000100110000000000110000010000000000000101000000000000011100000000100001000100001000001100000100010100000000100000000011101010000000100000100100010000000001000100000000100000100000000000000010000000100000010000010000001100100000000000001100011011010010000000000000001000000110000000001010010110000000000100000011001001010010001000001000000000000000000110101001000000010000000000010100000000010001001000001001000000001001000100000000110000001000000010000000100000000100000000110000100000000010000011000100000100100000000000000000000000000000000000100000100001001101000001000011000100011000100000000000011000000010000100001000000000011000000000000100010001000010000000000000000100010000000100000000000000000000110001000001000010100010000010101100000000001010001010000000000000011000001000000001100000000001010000101000000001100000010000000000100010101000000100000000000001000000010001000000000000000000001000000001000001100000000000000000000000000000000\n"
          ]
        }
      ]
    },
    {
      "cell_type": "code",
      "source": [
        "# Morgan Fingerprint\n"
      ],
      "metadata": {
        "id": "nTBfaLiveZ0H"
      },
      "execution_count": null,
      "outputs": []
    },
    {
      "cell_type": "code",
      "source": [
        "# Atom-Pair fingerprint\n",
        "ap_aspirin = rdMolDescriptors.GetHashedAtomPairFingerprintAsBitVect(aspirin)\n",
        "print(ap_aspirin.ToBitString())"
      ],
      "metadata": {
        "colab": {
          "base_uri": "https://localhost:8080/"
        },
        "id": "PaFihrgoe4sp",
        "outputId": "687c0acb-40b5-4dad-9e8e-24eea159afb9"
      },
      "execution_count": null,
      "outputs": [
        {
          "output_type": "stream",
          "name": "stdout",
          "text": [
            "00000000000000001000000000000000000000000000000000000000000000000000100000000000000000000000000000000000000000000000000000000000000000000000000000000000000000000000000000000000000000000000000000000000000000000000000000000000000000000000000000000000000000000000000000000000000000000000110000000000100000000000000000000000110010000000000000000000000000000000000000000000000000001000100000000000000000000000000000000000000000000000000000000000000000001000000000001000000000000000000000000000000000001000000000000000000000000000000000000000100000000000100010000000000000000000000000000000000000001000000000001000000000000000000000000000100010000000000000000000000000000000000000000000000000000000000000000000000000001100000000000000000000000000000000000000000000000000110011000000000010000000000000001100110011000000000000000000000000000000000010000000000000001000000010000000100000000000000000000000000000000000000000000000000000000000000000000000000000000000000000001100100000000000000010000000000000000000000000000000111010000000000000000000000000000000000010000000000000000000000011000000000000000000000000000000000000000000000000000000000000000000000000000000000000000000000000000000000000000000000000000000000000001000000000000000000000000000111011100000000000000000000000000000000000000000000000000000000000001000000000000000000000000000100000000000000000001000000000000000000000000000000000000000000000000000000000000000000000000000000000000000000000000000000000000000000000000000000000000000110000000000110000000000000000000000000000000000000000000000000000000000000000000000000000000000000000000000000000000000000000000000000000000000000000000000000000000000000000000000000000000000000000000000000000000000000000000000000000000000000000000000000000000000000000000000000000000000000000000000000000000000000011001000000000000000000000000000000000000000000000000000000000000000000010000000000000000000000010001000000000000000000000000000000000000000000000000000000000000000000000000000000000000000000000000000000000000000000000000000000000000000\n"
          ]
        },
        {
          "output_type": "stream",
          "name": "stderr",
          "text": [
            "[13:54:27] DEPRECATION WARNING: please use AtomPairGenerator\n"
          ]
        }
      ]
    },
    {
      "cell_type": "code",
      "source": [
        "# Topological Torsion fingerprint\n",
        "tt_aspirin = rdMolDescriptors.GetHashedTopologicalTorsionFingerprintAsBitVect(nolatrexed)\n",
        "print(tt_aspirin.ToBitString())"
      ],
      "metadata": {
        "colab": {
          "base_uri": "https://localhost:8080/"
        },
        "id": "BnppFt6Me78l",
        "outputId": "0fa110bc-0f16-4142-b771-459c649c71ae"
      },
      "execution_count": null,
      "outputs": [
        {
          "output_type": "stream",
          "name": "stdout",
          "text": [
            "00000000000000000000000000000000000000000000000000000000000000000000000000000000000000000000000000000000000000000000000000000000000000000000000000000000000000000000000000000000000000000000000000000000000000000000000000000000000000000000000000000000000000000000000000000000000000000000000000000000000000000000000000000000110000000000000010000000000000000000000000000000000000001100110000000000000000000000000000000000000000000000000000000000000000000000111000000000000000000000000000000000000000001000000000001000000000001100000000000000000000000000000000000000000000000000000000000000000000000000000000000000000000000000000000000000000000000000000000000000000000000000000000000000000000000000000000000000000000000000000000000000000000000000000000000000000000001000000000000000000000000000000000000000000000000000000000000000000000000000000000000000000000000000000000000000000000000000000000000000000000000000000000000000000000000000000000000000000000000000000000000000000000000000000000000000000000000000000000000000000000000000000000000000000000000000000000000000000000000000000000000000000000000000000000000000000000000000110000000000000000000000000000000000000000000000000000000000000000000000000000000000000000000000000000000000000010000000000000000000000000000000000000000000000000000000000000001100000000000000000000001100000000000000000011000000000000000000000000000000000000000000110000000000000000000000000000000000000000000000000000000000000000000000000000000000000000000000100000000000000000000000000000000000000000000000000000000000000000000000000000001100000000000000000000000000000000000000000000000000000000000000000000000000000000000000000011000000000000000000000000000000000000000000000000000000000011000000000011000000000000000000000000000000000000000000000000000000110000000000000000000000000000000000000000000000000000000000000000000000000000000000000000000000000000000000100000000000000000000000000000000000000000000000000000000000000000000000000000000000000000000000000000000000000000000000100000000000000000000000000000000000\n"
          ]
        },
        {
          "output_type": "stream",
          "name": "stderr",
          "text": [
            "[13:54:31] DEPRECATION WARNING: please use TopologicalTorsionGenerator\n"
          ]
        }
      ]
    },
    {
      "cell_type": "code",
      "source": [
        "# Morgan fingerprint (Similar to ECFP)\n",
        "ecfp_aspirin = AllChem.GetMorganFingerprintAsBitVect(aspirin, 4)\n",
        "print(ecfp_aspirin.ToBitString())"
      ],
      "metadata": {
        "colab": {
          "base_uri": "https://localhost:8080/"
        },
        "id": "wbln6ze1cllf",
        "outputId": "fb537483-2078-4a64-e685-05db7a01bbc3"
      },
      "execution_count": null,
      "outputs": [
        {
          "output_type": "stream",
          "name": "stdout",
          "text": [
            "00000000000000000000000000000000000000000000000000000000000000000000000000000000000000000000000000000000000000000000000000000000000000000000000000000000000000000000000000000000000000000000000000000000000000000000000000000000000000000000000000000000000000000000000000000000000000000000000000000000000000000000000000000000000000000000000000000000000000000000000000000000000000000000000000000100000000000000000000000000000000000000000000000000000000000000000010000000000000000000000000000000000000000000000000000000000000000000000000000000000001000000000000000000000000000000000000000000000001000000000000000000000000000000000000000000000000000000000000100000000000000000000000000000000000000000000100000000000000000000000000000000000000000000100000000000000000000000000000000000000000000000000000000000000000010000000000000000000000000000000000000000000000000000000000000000000000000000000000000000000000000000010000000000000000000000000000000000000000000000000000000000000000000000000000000000000000000000000000000000010000000001000000010000000000010000000001000000000000000000000000000000100000000000000000100000000000000000000000000000000000000000000000000000000000000000000000000000000000000000000100000000000000000000000000000000000000000000000000000000000000000000000000000000000000000000000000000000000000000000000000000000000000000000000000000000000000000000000000000000000010000000000000000000000000000010000000000000000000000000000000000001000000000000000000011000000000000000000000000000000000000000000000000000000000000000000000000000000000000000000000000000000000000000000000000000000000000000000000000000100000000000000000000000000000000000000000000000000000000000000000000000000000000000000000000000000000000000000001000000000000000000001000000000000000000000000100000000000000000000000000000000000000000000000000000000000000000000000000000000000000000100000001000000000000000000000000000000000000000000010000000000000000000000000000000000000000000000000000100000000000000000000100000000000000000000000000000000000000000000000000000000\n"
          ]
        },
        {
          "output_type": "stream",
          "name": "stderr",
          "text": [
            "[14:03:24] DEPRECATION WARNING: please use MorganGenerator\n"
          ]
        }
      ]
    },
    {
      "cell_type": "markdown",
      "source": [
        "# Scikit-fingerprints"
      ],
      "metadata": {
        "id": "jte8L6Mv6-HW"
      }
    },
    {
      "cell_type": "code",
      "source": [],
      "metadata": {
        "id": "84M0N6vk6900"
      },
      "execution_count": null,
      "outputs": []
    }
  ],
  "metadata": {
    "colab": {
      "provenance": [],
      "authorship_tag": "ABX9TyPYIE0ulJ9TINp399qrkPqO",
      "include_colab_link": true
    },
    "kernelspec": {
      "display_name": "Python 3",
      "name": "python3"
    },
    "language_info": {
      "name": "python"
    }
  },
  "nbformat": 4,
  "nbformat_minor": 0
}